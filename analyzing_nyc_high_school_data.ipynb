{
 "cells": [
  {
   "cell_type": "markdown",
   "metadata": {},
   "source": [
    "# Analyzing NYC High School Data\n",
    "This project is going to be taking different files about high schools in the NY state and assessing some simple analysis on SAT scores.\n",
    "<br>\n",
    "The Data is stored in: [Here](https://data.cityofnewyork.us/Education/2012-SAT-Results/f9bf-2cp4)"
   ]
  },
  {
   "cell_type": "markdown",
   "metadata": {},
   "source": [
    "# Read in the data"
   ]
  },
  {
   "cell_type": "code",
   "execution_count": 1,
   "metadata": {},
   "outputs": [],
   "source": [
    "import pandas as pd\n",
    "import numpy as np\n",
    "import re\n",
    "import matplotlib as plt\n",
    "\n",
    "%matplotlib inline\n",
    "\n",
    "data_files = [\n",
    "    \"ap_2010.csv\",\n",
    "    \"class_size.csv\",\n",
    "    \"demographics.csv\",\n",
    "    \"graduation.csv\",\n",
    "    \"hs_directory.csv\",\n",
    "    \"sat_results.csv\"\n",
    "]\n",
    "\n",
    "data = {}\n",
    "\n",
    "for f in data_files:\n",
    "    d = pd.read_csv(\"/Users/hokyoon/Desktop/Data_Science/Data_Sets/NYC_High_School_Data/schools/{0}\".format(f))\n",
    "    data[f.replace(\".csv\", \"\")] = d"
   ]
  },
  {
   "cell_type": "markdown",
   "metadata": {},
   "source": [
    "# Read in the surveys"
   ]
  },
  {
   "cell_type": "code",
   "execution_count": 2,
   "metadata": {},
   "outputs": [],
   "source": [
    "all_survey = pd.read_csv(\"/Users/hokyoon/Desktop/Data_Science/Data_Sets/NYC_High_School_Data/schools/survey_all.txt\", delimiter=\"\\t\", encoding='windows-1252')\n",
    "d75_survey = pd.read_csv(\"/Users/hokyoon/Desktop/Data_Science/Data_Sets/NYC_High_School_Data/schools/survey_d75.txt\", delimiter=\"\\t\", encoding='windows-1252')\n",
    "survey = pd.concat([all_survey, d75_survey], axis=0, sort = True)\n",
    "\n",
    "survey[\"DBN\"] = survey[\"dbn\"]\n",
    "\n",
    "survey_fields = [\n",
    "    \"DBN\", \n",
    "    \"rr_s\", \n",
    "    \"rr_t\", \n",
    "    \"rr_p\", \n",
    "    \"N_s\", \n",
    "    \"N_t\", \n",
    "    \"N_p\", \n",
    "    \"saf_p_11\", \n",
    "    \"com_p_11\", \n",
    "    \"eng_p_11\", \n",
    "    \"aca_p_11\", \n",
    "    \"saf_t_11\", \n",
    "    \"com_t_11\", \n",
    "    \"eng_t_11\", \n",
    "    \"aca_t_11\", \n",
    "    \"saf_s_11\", \n",
    "    \"com_s_11\", \n",
    "    \"eng_s_11\", \n",
    "    \"aca_s_11\", \n",
    "    \"saf_tot_11\", \n",
    "    \"com_tot_11\", \n",
    "    \"eng_tot_11\", \n",
    "    \"aca_tot_11\",\n",
    "]\n",
    "survey = survey.loc[:,survey_fields]\n",
    "data[\"survey\"] = survey"
   ]
  },
  {
   "cell_type": "markdown",
   "metadata": {},
   "source": [
    "# Add DBN columns"
   ]
  },
  {
   "cell_type": "code",
   "execution_count": 3,
   "metadata": {},
   "outputs": [],
   "source": [
    "data[\"hs_directory\"][\"DBN\"] = data[\"hs_directory\"][\"dbn\"]\n",
    "\n",
    "def pad_csd(num):\n",
    "    string_representation = str(num)\n",
    "    if len(string_representation) > 1:\n",
    "        return string_representation\n",
    "    else:\n",
    "        return \"0\" + string_representation\n",
    "    \n",
    "data[\"class_size\"][\"padded_csd\"] = data[\"class_size\"][\"CSD\"].apply(pad_csd)\n",
    "data[\"class_size\"][\"DBN\"] = data[\"class_size\"][\"padded_csd\"] + data[\"class_size\"][\"SCHOOL CODE\"]"
   ]
  },
  {
   "cell_type": "markdown",
   "metadata": {},
   "source": [
    "# Convert columns to numeric"
   ]
  },
  {
   "cell_type": "code",
   "execution_count": 4,
   "metadata": {},
   "outputs": [],
   "source": [
    "cols = ['SAT Math Avg. Score', 'SAT Critical Reading Avg. Score', 'SAT Writing Avg. Score']\n",
    "for c in cols:\n",
    "    data[\"sat_results\"][c] = pd.to_numeric(data[\"sat_results\"][c], errors=\"coerce\")\n",
    "\n",
    "data['sat_results']['sat_score'] = data['sat_results'][cols[0]] + data['sat_results'][cols[1]] + data['sat_results'][cols[2]]\n",
    "\n",
    "def find_lat(loc):\n",
    "    coords = re.findall(\"\\(.+, .+\\)\", loc)\n",
    "    lat = coords[0].split(\",\")[0].replace(\"(\", \"\")\n",
    "    return lat\n",
    "\n",
    "def find_lon(loc):\n",
    "    coords = re.findall(\"\\(.+, .+\\)\", loc)\n",
    "    lon = coords[0].split(\",\")[1].replace(\")\", \"\").strip()\n",
    "    return lon\n",
    "\n",
    "data[\"hs_directory\"][\"lat\"] = data[\"hs_directory\"][\"Location 1\"].apply(find_lat)\n",
    "data[\"hs_directory\"][\"lon\"] = data[\"hs_directory\"][\"Location 1\"].apply(find_lon)\n",
    "\n",
    "data[\"hs_directory\"][\"lat\"] = pd.to_numeric(data[\"hs_directory\"][\"lat\"], errors=\"coerce\")\n",
    "data[\"hs_directory\"][\"lon\"] = pd.to_numeric(data[\"hs_directory\"][\"lon\"], errors=\"coerce\")"
   ]
  },
  {
   "cell_type": "markdown",
   "metadata": {},
   "source": [
    "# Condense datasets"
   ]
  },
  {
   "cell_type": "code",
   "execution_count": 5,
   "metadata": {},
   "outputs": [],
   "source": [
    "class_size = data[\"class_size\"]\n",
    "class_size = class_size[class_size[\"GRADE \"] == \"09-12\"]\n",
    "class_size = class_size[class_size[\"PROGRAM TYPE\"] == \"GEN ED\"]\n",
    "\n",
    "class_size = class_size.groupby(\"DBN\").agg(np.mean)\n",
    "class_size.reset_index(inplace=True)\n",
    "data[\"class_size\"] = class_size\n",
    "\n",
    "data[\"demographics\"] = data[\"demographics\"][data[\"demographics\"][\"schoolyear\"] == 20112012]\n",
    "\n",
    "data[\"graduation\"] = data[\"graduation\"][data[\"graduation\"][\"Cohort\"] == \"2006\"]\n",
    "data[\"graduation\"] = data[\"graduation\"][data[\"graduation\"][\"Demographic\"] == \"Total Cohort\"]"
   ]
  },
  {
   "cell_type": "markdown",
   "metadata": {},
   "source": [
    "# Convert AP scores to numeric"
   ]
  },
  {
   "cell_type": "code",
   "execution_count": 6,
   "metadata": {},
   "outputs": [],
   "source": [
    "cols = ['AP Test Takers ', 'Total Exams Taken', 'Number of Exams with scores 3 4 or 5']\n",
    "\n",
    "for col in cols:\n",
    "    data[\"ap_2010\"][col] = pd.to_numeric(data[\"ap_2010\"][col], errors=\"coerce\")"
   ]
  },
  {
   "cell_type": "markdown",
   "metadata": {},
   "source": [
    "# Combine the datasets"
   ]
  },
  {
   "cell_type": "code",
   "execution_count": 7,
   "metadata": {},
   "outputs": [],
   "source": [
    "combined = data[\"sat_results\"]\n",
    "\n",
    "combined = combined.merge(data[\"ap_2010\"], on=\"DBN\", how=\"left\")\n",
    "combined = combined.merge(data[\"graduation\"], on=\"DBN\", how=\"left\")\n",
    "\n",
    "to_merge = [\"class_size\", \"demographics\", \"survey\", \"hs_directory\"]\n",
    "\n",
    "for m in to_merge:\n",
    "    combined = combined.merge(data[m], on=\"DBN\", how=\"inner\")\n",
    "\n",
    "combined = combined.fillna(combined.mean())\n",
    "combined = combined.fillna(0)"
   ]
  },
  {
   "cell_type": "markdown",
   "metadata": {},
   "source": [
    "# Add a school district column for mapping"
   ]
  },
  {
   "cell_type": "code",
   "execution_count": 8,
   "metadata": {},
   "outputs": [],
   "source": [
    "def get_first_two_chars(dbn):\n",
    "    return dbn[0:2]\n",
    "\n",
    "combined[\"school_dist\"] = combined[\"DBN\"].apply(get_first_two_chars)"
   ]
  },
  {
   "cell_type": "markdown",
   "metadata": {},
   "source": [
    "# Find correlations"
   ]
  },
  {
   "cell_type": "code",
   "execution_count": 9,
   "metadata": {},
   "outputs": [
    {
     "name": "stdout",
     "output_type": "stream",
     "text": [
      "SAT Critical Reading Avg. Score         0.986820\n",
      "SAT Math Avg. Score                     0.972643\n",
      "SAT Writing Avg. Score                  0.987771\n",
      "sat_score                               1.000000\n",
      "AP Test Takers                          0.523140\n",
      "Total Exams Taken                       0.514333\n",
      "Number of Exams with scores 3 4 or 5    0.463245\n",
      "Total Cohort                            0.325144\n",
      "CSD                                     0.042948\n",
      "NUMBER OF STUDENTS / SEATS FILLED       0.394626\n",
      "NUMBER OF SECTIONS                      0.362673\n",
      "AVERAGE CLASS SIZE                      0.381014\n",
      "SIZE OF SMALLEST CLASS                  0.249949\n",
      "SIZE OF LARGEST CLASS                   0.314434\n",
      "SCHOOLWIDE PUPIL-TEACHER RATIO               NaN\n",
      "schoolyear                                   NaN\n",
      "fl_percent                                   NaN\n",
      "frl_percent                            -0.722225\n",
      "total_enrollment                        0.367857\n",
      "ell_num                                -0.153778\n",
      "ell_percent                            -0.398750\n",
      "sped_num                                0.034933\n",
      "sped_percent                           -0.448170\n",
      "asian_num                               0.475445\n",
      "asian_per                               0.570730\n",
      "black_num                               0.027979\n",
      "black_per                              -0.284139\n",
      "hispanic_num                            0.025744\n",
      "hispanic_per                           -0.396985\n",
      "white_num                               0.449559\n",
      "                                          ...   \n",
      "rr_p                                    0.047925\n",
      "N_s                                     0.423463\n",
      "N_t                                     0.291463\n",
      "N_p                                     0.421530\n",
      "saf_p_11                                0.122913\n",
      "com_p_11                               -0.115073\n",
      "eng_p_11                                0.020254\n",
      "aca_p_11                                0.035155\n",
      "saf_t_11                                0.313810\n",
      "com_t_11                                0.082419\n",
      "eng_t_11                                0.036906\n",
      "aca_t_11                                0.132348\n",
      "saf_s_11                                0.337639\n",
      "com_s_11                                0.187370\n",
      "eng_s_11                                0.213822\n",
      "aca_s_11                                0.339435\n",
      "saf_tot_11                              0.318753\n",
      "com_tot_11                              0.077310\n",
      "eng_tot_11                              0.100102\n",
      "aca_tot_11                              0.190966\n",
      "grade_span_max                               NaN\n",
      "expgrade_span_max                            NaN\n",
      "zip                                    -0.063977\n",
      "total_students                          0.407827\n",
      "number_programs                         0.117012\n",
      "priority08                                   NaN\n",
      "priority09                                   NaN\n",
      "priority10                                   NaN\n",
      "lat                                    -0.121029\n",
      "lon                                    -0.132222\n",
      "Name: sat_score, Length: 67, dtype: float64\n"
     ]
    }
   ],
   "source": [
    "correlations = combined.corr()\n",
    "correlations = correlations[\"sat_score\"]\n",
    "print(correlations)"
   ]
  },
  {
   "cell_type": "markdown",
   "metadata": {},
   "source": [
    "# Plotting survey correlations"
   ]
  },
  {
   "cell_type": "code",
   "execution_count": 10,
   "metadata": {},
   "outputs": [],
   "source": [
    "# Remove DBN since it's a unique identifier, not a useful numerical value for correlation.\n",
    "survey_fields.remove(\"DBN\")"
   ]
  },
  {
   "cell_type": "code",
   "execution_count": 11,
   "metadata": {},
   "outputs": [
    {
     "data": {
      "text/plain": [
       "['rr_s',\n",
       " 'rr_t',\n",
       " 'rr_p',\n",
       " 'N_s',\n",
       " 'N_t',\n",
       " 'N_p',\n",
       " 'saf_p_11',\n",
       " 'com_p_11',\n",
       " 'eng_p_11',\n",
       " 'aca_p_11',\n",
       " 'saf_t_11',\n",
       " 'com_t_11',\n",
       " 'eng_t_11',\n",
       " 'aca_t_11',\n",
       " 'saf_s_11',\n",
       " 'com_s_11',\n",
       " 'eng_s_11',\n",
       " 'aca_s_11',\n",
       " 'saf_tot_11',\n",
       " 'com_tot_11',\n",
       " 'eng_tot_11',\n",
       " 'aca_tot_11']"
      ]
     },
     "execution_count": 11,
     "metadata": {},
     "output_type": "execute_result"
    }
   ],
   "source": [
    "survey_fields"
   ]
  },
  {
   "cell_type": "markdown",
   "metadata": {},
   "source": [
    "## Data dictonary for survey_fields\n",
    "\n",
    "rr_s&emsp;&emsp;Student Response Rate<br>\n",
    "rr_t&emsp;&emsp;Teacher Response Rate<br>\n",
    "rr_p&emsp;&emsp;Parent Response Rate<br>\n",
    "N_s&emsp;&emsp;Number of student respondents<br>\n",
    "N_t&emsp;&emsp;Number of teacher respondents<br>\n",
    "N_p&emsp;&emsp;Number of parent respondents<br>\n",
    "nr_s&emsp;&emsp;Number of eligible students<br>\n",
    "nr_t&emsp;&emsp;Number of eligible teachers<br>\n",
    "nr_p&emsp;&emsp;Number of eligible parents<br>\n",
    "saf_p_11&emsp;&emsp;Safety and Respect score based on parent responses<br>\n",
    "com_p_11&emsp;&emsp;Communication score based on parent responses<br>\n",
    "eng_p_11&emsp;&emsp;Engagement score based on parent responses<br>\n",
    "aca_p_11&emsp;&emsp;Academic expectations score based on parent responses<br>\n",
    "saf_t_11&emsp;&emsp;Safety and Respect score based on teacher responses<br>\n",
    "com_t_11&emsp;&emsp;Communication score based on teacher responses<br>\n",
    "eng_t_11&emsp;&emsp;Engagement score based on teacher responses<br>\n",
    "aca_t_11&emsp;&emsp;Academic expectations score based on teacher responses<br>\n",
    "saf_s_11&emsp;&emsp;Safety and Respect score based on student responses<br>\n",
    "com_s_11&emsp;&emsp;Communication score based on student responses<br>\n",
    "eng_s_11&emsp;&emsp;Engagement score based on student responses<br>\n",
    "aca_s_11&emsp;&emsp;Academic expectations score based on student responses<br>\n",
    "saf_tot_11&emsp;&emsp;Safety and Respect total score<br>\n",
    "com_tot_11&emsp;&emsp;Communication total score<br>\n",
    "eng_tot_11&emsp;&emsp;Engagement total score<br>\n",
    "aca_tot_11&emsp;&emsp;Academic Expectations total score"
   ]
  },
  {
   "cell_type": "code",
   "execution_count": 12,
   "metadata": {},
   "outputs": [
    {
     "data": {
      "text/plain": [
       "<matplotlib.axes._subplots.AxesSubplot at 0x10a069780>"
      ]
     },
     "execution_count": 12,
     "metadata": {},
     "output_type": "execute_result"
    },
    {
     "data": {
      "image/png": "[encoded data removed]",
      "text/plain": [
       "<Figure size 720x720 with 1 Axes>"
      ]
     },
     "metadata": {},
     "output_type": "display_data"
    }
   ],
   "source": [
    "correlations[survey_fields].plot(\n",
    "    kind = 'bar'\n",
    "    , figsize = (10,10)\n",
    "    , title = 'sat_scores vs survey_fields'\n",
    "    , legend = False\n",
    "    )\n",
    "\n"
   ]
  },
  {
   "cell_type": "markdown",
   "metadata": {},
   "source": [
    "We can see N_s, N_t, N_p, saf_t_11, saf_s_11, aca_s_11, saf_tot_11 all have a correlation above .25, which we deem interesting. <br><br>\n",
    "\n",
    "Looking back at the data dictonary, these values mean that:<br><br>\n",
    "\n",
    "N_s  Number of student respondents<br>\n",
    "N_t  Number of teacher respondents<br>\n",
    "N_p  Number of parent respondents<br>\n",
    "saf_t_11  Safety and Respect score based on teacher responses<br>\n",
    "saf_s_11  Safety and Respect score based on student responses<br>\n",
    "aca_s_11  Academic expectations score based on student responses<br>\n",
    "saf_tot_11  Safety and Respect total score<br><br>\n",
    "\n",
    "have positive correlation to Sat_scores<br>\n",
    "<br>\n",
    "\n",
    "We will dig into saf_t_11 and saf_s_11 deeper\n"
   ]
  },
  {
   "cell_type": "code",
   "execution_count": 13,
   "metadata": {},
   "outputs": [
    {
     "data": {
      "text/plain": [
       "<matplotlib.axes._subplots.AxesSubplot at 0x109c1dc50>"
      ]
     },
     "execution_count": 13,
     "metadata": {},
     "output_type": "execute_result"
    },
    {
     "data": {
      "image/png": "[encoded data removed]",
      "text/plain": [
       "<Figure size 720x720 with 1 Axes>"
      ]
     },
     "metadata": {},
     "output_type": "display_data"
    }
   ],
   "source": [
    "combined.plot(x='saf_s_11'\n",
    "              , y='sat_score'\n",
    "              , kind = 'scatter'\n",
    "              , figsize = (10,10)\n",
    "              , title= 'saf_s_11 vs SAT Scores')"
   ]
  },
  {
   "cell_type": "markdown",
   "metadata": {},
   "source": [
    "It looks like most of the lower sat scores are bunched up with the lower saf_s_11 scores, slowly trending up together"
   ]
  },
  {
   "cell_type": "code",
   "execution_count": 14,
   "metadata": {},
   "outputs": [
    {
     "data": {
      "text/html": [
       "<div>\n",
       "<style scoped>\n",
       "    .dataframe tbody tr th:only-of-type {\n",
       "        vertical-align: middle;\n",
       "    }\n",
       "\n",
       "    .dataframe tbody tr th {\n",
       "        vertical-align: top;\n",
       "    }\n",
       "\n",
       "    .dataframe thead th {\n",
       "        text-align: right;\n",
       "    }\n",
       "</style>\n",
       "<table border=\"1\" class=\"dataframe\">\n",
       "  <thead>\n",
       "    <tr style=\"text-align: right;\">\n",
       "      <th></th>\n",
       "      <th>school_dist</th>\n",
       "      <th>saf_s_11</th>\n",
       "      <th>lat</th>\n",
       "      <th>lon</th>\n",
       "    </tr>\n",
       "  </thead>\n",
       "  <tbody>\n",
       "    <tr>\n",
       "      <th>0</th>\n",
       "      <td>01</td>\n",
       "      <td>6.768611</td>\n",
       "      <td>40.719022</td>\n",
       "      <td>-73.982377</td>\n",
       "    </tr>\n",
       "    <tr>\n",
       "      <th>1</th>\n",
       "      <td>02</td>\n",
       "      <td>6.910660</td>\n",
       "      <td>40.739699</td>\n",
       "      <td>-73.991386</td>\n",
       "    </tr>\n",
       "    <tr>\n",
       "      <th>2</th>\n",
       "      <td>03</td>\n",
       "      <td>6.716667</td>\n",
       "      <td>40.781574</td>\n",
       "      <td>-73.977370</td>\n",
       "    </tr>\n",
       "    <tr>\n",
       "      <th>3</th>\n",
       "      <td>04</td>\n",
       "      <td>6.885714</td>\n",
       "      <td>40.793449</td>\n",
       "      <td>-73.943215</td>\n",
       "    </tr>\n",
       "    <tr>\n",
       "      <th>4</th>\n",
       "      <td>05</td>\n",
       "      <td>6.314286</td>\n",
       "      <td>40.817077</td>\n",
       "      <td>-73.949251</td>\n",
       "    </tr>\n",
       "    <tr>\n",
       "      <th>5</th>\n",
       "      <td>06</td>\n",
       "      <td>6.950000</td>\n",
       "      <td>40.848970</td>\n",
       "      <td>-73.932502</td>\n",
       "    </tr>\n",
       "    <tr>\n",
       "      <th>6</th>\n",
       "      <td>07</td>\n",
       "      <td>6.800000</td>\n",
       "      <td>40.816815</td>\n",
       "      <td>-73.919971</td>\n",
       "    </tr>\n",
       "    <tr>\n",
       "      <th>7</th>\n",
       "      <td>08</td>\n",
       "      <td>6.364697</td>\n",
       "      <td>40.823803</td>\n",
       "      <td>-73.866087</td>\n",
       "    </tr>\n",
       "    <tr>\n",
       "      <th>8</th>\n",
       "      <td>09</td>\n",
       "      <td>6.655000</td>\n",
       "      <td>40.836349</td>\n",
       "      <td>-73.906240</td>\n",
       "    </tr>\n",
       "    <tr>\n",
       "      <th>9</th>\n",
       "      <td>10</td>\n",
       "      <td>6.577273</td>\n",
       "      <td>40.870345</td>\n",
       "      <td>-73.898360</td>\n",
       "    </tr>\n",
       "    <tr>\n",
       "      <th>10</th>\n",
       "      <td>11</td>\n",
       "      <td>6.186667</td>\n",
       "      <td>40.873138</td>\n",
       "      <td>-73.856120</td>\n",
       "    </tr>\n",
       "    <tr>\n",
       "      <th>11</th>\n",
       "      <td>12</td>\n",
       "      <td>7.116667</td>\n",
       "      <td>40.831412</td>\n",
       "      <td>-73.886946</td>\n",
       "    </tr>\n",
       "    <tr>\n",
       "      <th>12</th>\n",
       "      <td>13</td>\n",
       "      <td>6.407692</td>\n",
       "      <td>40.692865</td>\n",
       "      <td>-73.977016</td>\n",
       "    </tr>\n",
       "    <tr>\n",
       "      <th>13</th>\n",
       "      <td>14</td>\n",
       "      <td>6.685714</td>\n",
       "      <td>40.711599</td>\n",
       "      <td>-73.948360</td>\n",
       "    </tr>\n",
       "    <tr>\n",
       "      <th>14</th>\n",
       "      <td>15</td>\n",
       "      <td>6.177778</td>\n",
       "      <td>40.675972</td>\n",
       "      <td>-73.989255</td>\n",
       "    </tr>\n",
       "    <tr>\n",
       "      <th>15</th>\n",
       "      <td>16</td>\n",
       "      <td>5.875000</td>\n",
       "      <td>40.688008</td>\n",
       "      <td>-73.929686</td>\n",
       "    </tr>\n",
       "    <tr>\n",
       "      <th>16</th>\n",
       "      <td>17</td>\n",
       "      <td>6.007143</td>\n",
       "      <td>40.660313</td>\n",
       "      <td>-73.955636</td>\n",
       "    </tr>\n",
       "    <tr>\n",
       "      <th>17</th>\n",
       "      <td>18</td>\n",
       "      <td>6.190909</td>\n",
       "      <td>40.641863</td>\n",
       "      <td>-73.914726</td>\n",
       "    </tr>\n",
       "    <tr>\n",
       "      <th>18</th>\n",
       "      <td>19</td>\n",
       "      <td>6.150000</td>\n",
       "      <td>40.676547</td>\n",
       "      <td>-73.882158</td>\n",
       "    </tr>\n",
       "    <tr>\n",
       "      <th>19</th>\n",
       "      <td>20</td>\n",
       "      <td>7.120000</td>\n",
       "      <td>40.626751</td>\n",
       "      <td>-74.006191</td>\n",
       "    </tr>\n",
       "    <tr>\n",
       "      <th>20</th>\n",
       "      <td>21</td>\n",
       "      <td>6.390909</td>\n",
       "      <td>40.593596</td>\n",
       "      <td>-73.978465</td>\n",
       "    </tr>\n",
       "    <tr>\n",
       "      <th>21</th>\n",
       "      <td>22</td>\n",
       "      <td>7.025000</td>\n",
       "      <td>40.618285</td>\n",
       "      <td>-73.952288</td>\n",
       "    </tr>\n",
       "    <tr>\n",
       "      <th>22</th>\n",
       "      <td>23</td>\n",
       "      <td>6.233333</td>\n",
       "      <td>40.668586</td>\n",
       "      <td>-73.912298</td>\n",
       "    </tr>\n",
       "    <tr>\n",
       "      <th>23</th>\n",
       "      <td>24</td>\n",
       "      <td>7.107692</td>\n",
       "      <td>40.740621</td>\n",
       "      <td>-73.911518</td>\n",
       "    </tr>\n",
       "    <tr>\n",
       "      <th>24</th>\n",
       "      <td>25</td>\n",
       "      <td>6.912500</td>\n",
       "      <td>40.745414</td>\n",
       "      <td>-73.815558</td>\n",
       "    </tr>\n",
       "    <tr>\n",
       "      <th>25</th>\n",
       "      <td>26</td>\n",
       "      <td>6.760000</td>\n",
       "      <td>40.748507</td>\n",
       "      <td>-73.759176</td>\n",
       "    </tr>\n",
       "    <tr>\n",
       "      <th>26</th>\n",
       "      <td>27</td>\n",
       "      <td>6.390000</td>\n",
       "      <td>40.638828</td>\n",
       "      <td>-73.807823</td>\n",
       "    </tr>\n",
       "    <tr>\n",
       "      <th>27</th>\n",
       "      <td>28</td>\n",
       "      <td>6.627273</td>\n",
       "      <td>40.709344</td>\n",
       "      <td>-73.806367</td>\n",
       "    </tr>\n",
       "    <tr>\n",
       "      <th>28</th>\n",
       "      <td>29</td>\n",
       "      <td>6.075000</td>\n",
       "      <td>40.685276</td>\n",
       "      <td>-73.752740</td>\n",
       "    </tr>\n",
       "    <tr>\n",
       "      <th>29</th>\n",
       "      <td>30</td>\n",
       "      <td>7.033333</td>\n",
       "      <td>40.755398</td>\n",
       "      <td>-73.932306</td>\n",
       "    </tr>\n",
       "    <tr>\n",
       "      <th>30</th>\n",
       "      <td>31</td>\n",
       "      <td>6.530000</td>\n",
       "      <td>40.595680</td>\n",
       "      <td>-74.125726</td>\n",
       "    </tr>\n",
       "    <tr>\n",
       "      <th>31</th>\n",
       "      <td>32</td>\n",
       "      <td>6.766667</td>\n",
       "      <td>40.696295</td>\n",
       "      <td>-73.917124</td>\n",
       "    </tr>\n",
       "  </tbody>\n",
       "</table>\n",
       "</div>"
      ],
      "text/plain": [
       "   school_dist  saf_s_11        lat        lon\n",
       "0           01  6.768611  40.719022 -73.982377\n",
       "1           02  6.910660  40.739699 -73.991386\n",
       "2           03  6.716667  40.781574 -73.977370\n",
       "3           04  6.885714  40.793449 -73.943215\n",
       "4           05  6.314286  40.817077 -73.949251\n",
       "5           06  6.950000  40.848970 -73.932502\n",
       "6           07  6.800000  40.816815 -73.919971\n",
       "7           08  6.364697  40.823803 -73.866087\n",
       "8           09  6.655000  40.836349 -73.906240\n",
       "9           10  6.577273  40.870345 -73.898360\n",
       "10          11  6.186667  40.873138 -73.856120\n",
       "11          12  7.116667  40.831412 -73.886946\n",
       "12          13  6.407692  40.692865 -73.977016\n",
       "13          14  6.685714  40.711599 -73.948360\n",
       "14          15  6.177778  40.675972 -73.989255\n",
       "15          16  5.875000  40.688008 -73.929686\n",
       "16          17  6.007143  40.660313 -73.955636\n",
       "17          18  6.190909  40.641863 -73.914726\n",
       "18          19  6.150000  40.676547 -73.882158\n",
       "19          20  7.120000  40.626751 -74.006191\n",
       "20          21  6.390909  40.593596 -73.978465\n",
       "21          22  7.025000  40.618285 -73.952288\n",
       "22          23  6.233333  40.668586 -73.912298\n",
       "23          24  7.107692  40.740621 -73.911518\n",
       "24          25  6.912500  40.745414 -73.815558\n",
       "25          26  6.760000  40.748507 -73.759176\n",
       "26          27  6.390000  40.638828 -73.807823\n",
       "27          28  6.627273  40.709344 -73.806367\n",
       "28          29  6.075000  40.685276 -73.752740\n",
       "29          30  7.033333  40.755398 -73.932306\n",
       "30          31  6.530000  40.595680 -74.125726\n",
       "31          32  6.766667  40.696295 -73.917124"
      ]
     },
     "execution_count": 14,
     "metadata": {},
     "output_type": "execute_result"
    }
   ],
   "source": [
    "safety_score_by_dist = combined.groupby('school_dist').agg(np.mean) #get the avg saftey score per school district\n",
    "safety_score_by_dist.reset_index(inplace = True)\n",
    "\n",
    "cols = ['school_dist','saf_s_11', 'lat','lon']\n",
    "safety_score_by_dist[cols]"
   ]
  },
  {
   "cell_type": "code",
   "execution_count": 15,
   "metadata": {},
   "outputs": [
    {
     "data": {
      "text/plain": [
       "<matplotlib.collections.PathCollection at 0x1091fd7b8>"
      ]
     },
     "execution_count": 15,
     "metadata": {},
     "output_type": "execute_result"
    },
    {
     "data": {
      "image/png": "[encoded data removed]",
      "text/plain": [
       "<Figure size 432x288 with 1 Axes>"
      ]
     },
     "metadata": {},
     "output_type": "display_data"
    }
   ],
   "source": [
    "import os\n",
    "os.environ['PROJ_LIB'] = r'/anaconda3/pkgs/proj4-5.2.0-h0a44026_1/share/proj'\n",
    "\n",
    "\n",
    "from mpl_toolkits.basemap import Basemap\n",
    "m = Basemap(\n",
    "    projection='merc', \n",
    "    llcrnrlat=40.496044, \n",
    "    urcrnrlat=40.915256, \n",
    "    llcrnrlon=-74.255735, \n",
    "    urcrnrlon=-73.700272,\n",
    "    resolution='i'\n",
    ")\n",
    "\n",
    "m.drawmapboundary(fill_color='#85A6D9')\n",
    "m.drawcoastlines(color='#6D5F47', linewidth=.4)\n",
    "m.drawrivers(color='#6D5F47', linewidth=.4)\n",
    "\n",
    "longitudes = safety_score_by_dist['lon'].tolist()\n",
    "latitudes = safety_score_by_dist['lat'].tolist()\n",
    "\n",
    "m.scatter(x=longitudes,y=latitudes,s=50,zorder=2,latlon=True,c=safety_score_by_dist['saf_s_11'], cmap = 'summer')\n"
   ]
  },
  {
   "cell_type": "markdown",
   "metadata": {},
   "source": [
    "The map above shows each school district in their respective borough. the more the dot has a yellow color, the more of a lower saftey score it has. The greener the higher. <br><br>\n",
    "\n",
    "Next, we will see if each racial group has any correlation with sat_scores"
   ]
  },
  {
   "cell_type": "code",
   "execution_count": 16,
   "metadata": {},
   "outputs": [
    {
     "data": {
      "text/plain": [
       "Text(0,0.5,'SAT Score')"
      ]
     },
     "execution_count": 16,
     "metadata": {},
     "output_type": "execute_result"
    },
    {
     "data": {
      "image/png": "[encoded data removed]",
      "text/plain": [
       "<Figure size 720x720 with 1 Axes>"
      ]
     },
     "metadata": {},
     "output_type": "display_data"
    }
   ],
   "source": [
    "cols = ['white_per','asian_per','black_per','hispanic_per']\n",
    "\n",
    "ax = correlations[cols].plot(kind='bar', figsize = (10,10), title = 'Race vs SAT scores')\n",
    "ax.set_ylabel('SAT Score')"
   ]
  },
  {
   "cell_type": "markdown",
   "metadata": {},
   "source": [
    "Seems like hispanic_per has a negative correlation.<br><br>\n",
    "\n",
    "Let's dig deeper into this"
   ]
  },
  {
   "cell_type": "code",
   "execution_count": 20,
   "metadata": {},
   "outputs": [
    {
     "data": {
      "text/plain": [
       "<matplotlib.axes._subplots.AxesSubplot at 0x10968e860>"
      ]
     },
     "execution_count": 20,
     "metadata": {},
     "output_type": "execute_result"
    },
    {
     "data": {
      "image/png": "[encoded data removed]",
      "text/plain": [
       "<Figure size 720x720 with 1 Axes>"
      ]
     },
     "metadata": {},
     "output_type": "display_data"
    }
   ],
   "source": [
    "combined.plot(x='hispanic_per', y='sat_score',kind='scatter',figsize = (10,10))"
   ]
  },
  {
   "cell_type": "markdown",
   "metadata": {},
   "source": [
    "This seems like where the schools with 100% hispanic students have a very low SAT score while when we go further to the left(lower hispanic_per), we see that the SAT score increase<br>\n",
    "<br>\n",
    "Let's look at all the schools with a hispanic_per > 95%"
   ]
  },
  {
   "cell_type": "code",
   "execution_count": 23,
   "metadata": {},
   "outputs": [
    {
     "data": {
      "text/plain": [
       "array(['MANHATTAN BRIDGES HIGH SCHOOL',\n",
       "       'WASHINGTON HEIGHTS EXPEDITIONARY LEARNING SCHOOL',\n",
       "       'GREGORIO LUPERON HIGH SCHOOL FOR SCIENCE AND MATHEMATICS',\n",
       "       'ACADEMY FOR LANGUAGE AND TECHNOLOGY',\n",
       "       'INTERNATIONAL SCHOOL FOR LIBERAL ARTS',\n",
       "       'PAN AMERICAN INTERNATIONAL HIGH SCHOOL AT MONROE',\n",
       "       'MULTICULTURAL HIGH SCHOOL',\n",
       "       'PAN AMERICAN INTERNATIONAL HIGH SCHOOL'], dtype=object)"
      ]
     },
     "execution_count": 23,
     "metadata": {},
     "output_type": "execute_result"
    }
   ],
   "source": [
    "combined[combined['hispanic_per']>95]['SCHOOL NAME'].values"
   ]
  },
  {
   "cell_type": "markdown",
   "metadata": {},
   "source": [
    "With a quick Google search, it looks like most of these schools are in the Bronx with a few in Manhatten\n",
    "\n",
    "<br>\n",
    "<br>\n",
    "Let's now look at the dataset with hispanic_per < 10% and an average SAT score > than 1800"
   ]
  },
  {
   "cell_type": "code",
   "execution_count": 24,
   "metadata": {},
   "outputs": [
    {
     "data": {
      "text/plain": [
       "array(['STUYVESANT HIGH SCHOOL', 'BRONX HIGH SCHOOL OF SCIENCE',\n",
       "       'BROOKLYN TECHNICAL HIGH SCHOOL',\n",
       "       'QUEENS HIGH SCHOOL FOR THE SCIENCES AT YORK COLLEGE',\n",
       "       'STATEN ISLAND TECHNICAL HIGH SCHOOL'], dtype=object)"
      ]
     },
     "execution_count": 24,
     "metadata": {},
     "output_type": "execute_result"
    }
   ],
   "source": [
    "combined[(combined['hispanic_per']<10)&(combined['sat_score']>1800)]['SCHOOL NAME'].values"
   ]
  },
  {
   "cell_type": "markdown",
   "metadata": {},
   "source": [
    "With the exception of one school in the Bronx, it looks like every other school is distributed throughout the boroughs\n",
    "\n",
    "Let's do the same analysis with male_per and female_per"
   ]
  },
  {
   "cell_type": "code",
   "execution_count": 25,
   "metadata": {},
   "outputs": [
    {
     "data": {
      "text/plain": [
       "Text(0,0.5,'SAT Score')"
      ]
     },
     "execution_count": 25,
     "metadata": {},
     "output_type": "execute_result"
    },
    {
     "data": {
      "image/png": "[encoded data removed]",
      "text/plain": [
       "<Figure size 720x720 with 1 Axes>"
      ]
     },
     "metadata": {},
     "output_type": "display_data"
    }
   ],
   "source": [
    "cols = ['male_per','female_per']\n",
    "\n",
    "ax = correlations[cols].plot(kind='bar', figsize = (10,10), title = 'Race vs SAT scores')\n",
    "ax.set_ylabel('SAT Score')"
   ]
  },
  {
   "cell_type": "markdown",
   "metadata": {},
   "source": [
    "Looks like the male_per and female_per correlations are opposite!\n",
    "\n",
    "However, we can see that the corrleation is pretty weak\n",
    "\n",
    "Again, let's create a scatter plot for the positive correlating column: female_per"
   ]
  },
  {
   "cell_type": "code",
   "execution_count": 26,
   "metadata": {},
   "outputs": [
    {
     "data": {
      "text/plain": [
       "<matplotlib.axes._subplots.AxesSubplot at 0x109971b70>"
      ]
     },
     "execution_count": 26,
     "metadata": {},
     "output_type": "execute_result"
    },
    {
     "data": {
      "image/png": "[encoded data removed]",
      "text/plain": [
       "<Figure size 720x720 with 1 Axes>"
      ]
     },
     "metadata": {},
     "output_type": "display_data"
    }
   ],
   "source": [
    "combined.plot(x='female_per', y='sat_score', kind='scatter', figsize = (10,10))"
   ]
  },
  {
   "cell_type": "markdown",
   "metadata": {},
   "source": [
    "We can see that when female percentage is around 50%, there are a lot of mixed results. This shows that the correlation isn't really there due to all the spread\n",
    "<br><br>\n",
    "Let's look at schools that have female_per > 60% and SAT score > 1700"
   ]
  },
  {
   "cell_type": "code",
   "execution_count": 27,
   "metadata": {},
   "outputs": [
    {
     "data": {
      "text/plain": [
       "array(['BARD HIGH SCHOOL EARLY COLLEGE', 'ELEANOR ROOSEVELT HIGH SCHOOL',\n",
       "       'BEACON HIGH SCHOOL',\n",
       "       'FIORELLO H. LAGUARDIA HIGH SCHOOL OF MUSIC & ART AND PERFORMING ARTS',\n",
       "       'TOWNSEND HARRIS HIGH SCHOOL'], dtype=object)"
      ]
     },
     "execution_count": 27,
     "metadata": {},
     "output_type": "execute_result"
    }
   ],
   "source": [
    "combined[(combined['female_per']>60)&(combined['sat_score']>1700)]['SCHOOL NAME'].values"
   ]
  },
  {
   "cell_type": "markdown",
   "metadata": {},
   "source": [
    "Again, with another quick Google search, we can see that these schools are in Manhatten or Queens\n",
    "<br><br>\n",
    "Next, let's do an analysis on high schools that took AP courses as it correlates with SAT scores.\n",
    "- We'll first calculate a new column: ap_per which takes the number of AP courses divided by total enrollment\n",
    "- Then we will create a scatter plot between the ap_per and SAT scores"
   ]
  },
  {
   "cell_type": "code",
   "execution_count": 31,
   "metadata": {},
   "outputs": [
    {
     "data": {
      "text/plain": [
       "Text(0,0.5,'SAT Score')"
      ]
     },
     "execution_count": 31,
     "metadata": {},
     "output_type": "execute_result"
    },
    {
     "data": {
      "image/png": "[encoded data removed]",
      "text/plain": [
       "<Figure size 720x720 with 1 Axes>"
      ]
     },
     "metadata": {},
     "output_type": "display_data"
    }
   ],
   "source": [
    "combined['ap_per'] = combined['AP Test Takers ']/combined['total_enrollment'] # create new column\n",
    "\n",
    "ax = combined.plot(x='ap_per',y='sat_score',figsize=(10,10), kind = 'scatter')\n",
    "ax.set_ylabel('SAT Score')"
   ]
  },
  {
   "cell_type": "markdown",
   "metadata": {},
   "source": [
    "Doesn't seem like there is much of a correlation.\n",
    "\n",
    "To make sure, let's calculate it."
   ]
  },
  {
   "cell_type": "code",
   "execution_count": 33,
   "metadata": {},
   "outputs": [
    {
     "data": {
      "text/plain": [
       "0.05717081390766967"
      ]
     },
     "execution_count": 33,
     "metadata": {},
     "output_type": "execute_result"
    }
   ],
   "source": [
    "correlations = combined.corr()\n",
    "correlations.loc['ap_per','sat_score']"
   ]
  },
  {
   "cell_type": "markdown",
   "metadata": {},
   "source": [
    "Just as expected, there is not much of a correlation."
   ]
  }
 ],
 "metadata": {
  "kernelspec": {
   "display_name": "Python 3",
   "language": "python",
   "name": "python3"
  },
  "language_info": {
   "codemirror_mode": {
    "name": "ipython",
    "version": 3
   },
   "file_extension": ".py",
   "mimetype": "text/x-python",
   "name": "python",
   "nbconvert_exporter": "python",
   "pygments_lexer": "ipython3",
   "version": "3.6.5"
  }
 },
 "nbformat": 4,
 "nbformat_minor": 2
}
